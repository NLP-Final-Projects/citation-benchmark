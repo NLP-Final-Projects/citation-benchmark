{
  "nbformat": 4,
  "nbformat_minor": 0,
  "metadata": {
    "colab": {
      "provenance": []
    },
    "kernelspec": {
      "name": "python3",
      "display_name": "Python 3"
    },
    "language_info": {
      "name": "python"
    }
  },
  "cells": [
    {
      "cell_type": "code",
      "source": [
        "!sudo apt-get install build-essential libssl-dev libffi-dev python3-dev\n"
      ],
      "metadata": {
        "colab": {
          "base_uri": "https://localhost:8080/"
        },
        "id": "q2rrhwRq9mzF",
        "outputId": "dbd3f87e-2559-4c94-996c-4af6ef2401b4"
      },
      "execution_count": 1,
      "outputs": [
        {
          "output_type": "stream",
          "name": "stdout",
          "text": [
            "Reading package lists... Done\n",
            "Building dependency tree... Done\n",
            "Reading state information... Done\n",
            "build-essential is already the newest version (12.9ubuntu3).\n",
            "libssl-dev is already the newest version (3.0.2-0ubuntu1.17).\n",
            "python3-dev is already the newest version (3.10.6-1~22.04).\n",
            "python3-dev set to manually installed.\n",
            "The following NEW packages will be installed:\n",
            "  libffi-dev\n",
            "0 upgraded, 1 newly installed, 0 to remove and 45 not upgraded.\n",
            "Need to get 63.7 kB of archives.\n",
            "After this operation, 336 kB of additional disk space will be used.\n",
            "Get:1 http://archive.ubuntu.com/ubuntu jammy/main amd64 libffi-dev amd64 3.4.2-4 [63.7 kB]\n",
            "Fetched 63.7 kB in 0s (419 kB/s)\n",
            "debconf: unable to initialize frontend: Dialog\n",
            "debconf: (No usable dialog-like program is installed, so the dialog based frontend cannot be used. at /usr/share/perl5/Debconf/FrontEnd/Dialog.pm line 78, <> line 1.)\n",
            "debconf: falling back to frontend: Readline\n",
            "debconf: unable to initialize frontend: Readline\n",
            "debconf: (This frontend requires a controlling tty.)\n",
            "debconf: falling back to frontend: Teletype\n",
            "dpkg-preconfigure: unable to re-open stdin: \n",
            "Selecting previously unselected package libffi-dev:amd64.\n",
            "(Reading database ... 123598 files and directories currently installed.)\n",
            "Preparing to unpack .../libffi-dev_3.4.2-4_amd64.deb ...\n",
            "Unpacking libffi-dev:amd64 (3.4.2-4) ...\n",
            "Setting up libffi-dev:amd64 (3.4.2-4) ...\n",
            "Processing triggers for man-db (2.10.2-1) ...\n"
          ]
        }
      ]
    },
    {
      "cell_type": "code",
      "source": [
        "!python -m venv myenv\n",
        "!source myenv/bin/activate\n",
        "!pip install poe-api-wrapper\n"
      ],
      "metadata": {
        "colab": {
          "base_uri": "https://localhost:8080/"
        },
        "id": "G8AnAmHY9uNP",
        "outputId": "9cdb3b46-b1b6-44af-c9af-169ea3c88150"
      },
      "execution_count": 2,
      "outputs": [
        {
          "output_type": "stream",
          "name": "stdout",
          "text": [
            "The virtual environment was not created successfully because ensurepip is not\n",
            "available.  On Debian/Ubuntu systems, you need to install the python3-venv\n",
            "package using the following command.\n",
            "\n",
            "    apt install python3.10-venv\n",
            "\n",
            "You may need to use sudo with that command.  After installing the python3-venv\n",
            "package, recreate your virtual environment.\n",
            "\n",
            "Failing command: /content/myenv/bin/python3\n",
            "\n",
            "/bin/bash: line 1: myenv/bin/activate: No such file or directory\n",
            "Collecting poe-api-wrapper\n",
            "  Downloading poe_api_wrapper-1.6.3-py3-none-any.whl.metadata (45 kB)\n",
            "Collecting httpx[http2] (from poe-api-wrapper)\n",
            "  Downloading httpx-0.27.0-py3-none-any.whl.metadata (7.2 kB)\n",
            "Requirement already satisfied: websocket-client in /usr/local/lib/python3.10/dist-packages (from poe-api-wrapper) (1.8.0)\n",
            "Collecting requests-toolbelt (from poe-api-wrapper)\n",
            "  Downloading requests_toolbelt-1.0.0-py2.py3-none-any.whl.metadata (14 kB)\n",
            "Collecting loguru (from poe-api-wrapper)\n",
            "  Downloading loguru-0.7.2-py3-none-any.whl.metadata (23 kB)\n",
            "Collecting rich==13.3.4 (from poe-api-wrapper)\n",
            "  Downloading rich-13.3.4-py3-none-any.whl.metadata (18 kB)\n",
            "Requirement already satisfied: beautifulsoup4 in /usr/local/lib/python3.10/dist-packages (from poe-api-wrapper) (4.12.3)\n",
            "Collecting quickjs (from poe-api-wrapper)\n",
            "  Downloading quickjs-1.19.4-cp310-cp310-manylinux_2_17_x86_64.manylinux2014_x86_64.manylinux_2_28_x86_64.whl.metadata (590 bytes)\n",
            "Requirement already satisfied: nest-asyncio in /usr/local/lib/python3.10/dist-packages (from poe-api-wrapper) (1.6.0)\n",
            "Collecting orjson (from poe-api-wrapper)\n",
            "  Downloading orjson-3.10.7-cp310-cp310-manylinux_2_17_x86_64.manylinux2014_x86_64.whl.metadata (50 kB)\n",
            "Collecting aiofiles (from poe-api-wrapper)\n",
            "  Downloading aiofiles-24.1.0-py3-none-any.whl.metadata (10 kB)\n",
            "Collecting markdown-it-py<3.0.0,>=2.2.0 (from rich==13.3.4->poe-api-wrapper)\n",
            "  Downloading markdown_it_py-2.2.0-py3-none-any.whl.metadata (6.8 kB)\n",
            "Requirement already satisfied: pygments<3.0.0,>=2.13.0 in /usr/local/lib/python3.10/dist-packages (from rich==13.3.4->poe-api-wrapper) (2.16.1)\n",
            "Requirement already satisfied: soupsieve>1.2 in /usr/local/lib/python3.10/dist-packages (from beautifulsoup4->poe-api-wrapper) (2.5)\n",
            "Requirement already satisfied: anyio in /usr/local/lib/python3.10/dist-packages (from httpx[http2]->poe-api-wrapper) (3.7.1)\n",
            "Requirement already satisfied: certifi in /usr/local/lib/python3.10/dist-packages (from httpx[http2]->poe-api-wrapper) (2024.7.4)\n",
            "Collecting httpcore==1.* (from httpx[http2]->poe-api-wrapper)\n",
            "  Downloading httpcore-1.0.5-py3-none-any.whl.metadata (20 kB)\n",
            "Requirement already satisfied: idna in /usr/local/lib/python3.10/dist-packages (from httpx[http2]->poe-api-wrapper) (3.7)\n",
            "Requirement already satisfied: sniffio in /usr/local/lib/python3.10/dist-packages (from httpx[http2]->poe-api-wrapper) (1.3.1)\n",
            "Collecting h2<5,>=3 (from httpx[http2]->poe-api-wrapper)\n",
            "  Downloading h2-4.1.0-py3-none-any.whl.metadata (3.6 kB)\n",
            "Collecting h11<0.15,>=0.13 (from httpcore==1.*->httpx[http2]->poe-api-wrapper)\n",
            "  Downloading h11-0.14.0-py3-none-any.whl.metadata (8.2 kB)\n",
            "Requirement already satisfied: requests<3.0.0,>=2.0.1 in /usr/local/lib/python3.10/dist-packages (from requests-toolbelt->poe-api-wrapper) (2.32.3)\n",
            "Collecting hyperframe<7,>=6.0 (from h2<5,>=3->httpx[http2]->poe-api-wrapper)\n",
            "  Downloading hyperframe-6.0.1-py3-none-any.whl.metadata (2.7 kB)\n",
            "Collecting hpack<5,>=4.0 (from h2<5,>=3->httpx[http2]->poe-api-wrapper)\n",
            "  Downloading hpack-4.0.0-py3-none-any.whl.metadata (2.5 kB)\n",
            "Requirement already satisfied: mdurl~=0.1 in /usr/local/lib/python3.10/dist-packages (from markdown-it-py<3.0.0,>=2.2.0->rich==13.3.4->poe-api-wrapper) (0.1.2)\n",
            "Requirement already satisfied: charset-normalizer<4,>=2 in /usr/local/lib/python3.10/dist-packages (from requests<3.0.0,>=2.0.1->requests-toolbelt->poe-api-wrapper) (3.3.2)\n",
            "Requirement already satisfied: urllib3<3,>=1.21.1 in /usr/local/lib/python3.10/dist-packages (from requests<3.0.0,>=2.0.1->requests-toolbelt->poe-api-wrapper) (2.0.7)\n",
            "Requirement already satisfied: exceptiongroup in /usr/local/lib/python3.10/dist-packages (from anyio->httpx[http2]->poe-api-wrapper) (1.2.2)\n",
            "Downloading poe_api_wrapper-1.6.3-py3-none-any.whl (75 kB)\n",
            "Downloading rich-13.3.4-py3-none-any.whl (238 kB)\n",
            "Downloading aiofiles-24.1.0-py3-none-any.whl (15 kB)\n",
            "Downloading httpcore-1.0.5-py3-none-any.whl (77 kB)\n",
            "Downloading loguru-0.7.2-py3-none-any.whl (62 kB)\n",
            "Downloading orjson-3.10.7-cp310-cp310-manylinux_2_17_x86_64.manylinux2014_x86_64.whl (141 kB)\n",
            "Downloading quickjs-1.19.4-cp310-cp310-manylinux_2_17_x86_64.manylinux2014_x86_64.manylinux_2_28_x86_64.whl (2.2 MB)\n",
            "\u001b[2K   \u001b[90m━━━━━━━━━━━━━━━━━━━━━━━━━━━━━━━━━━━━━━━━\u001b[0m \u001b[32m2.2/2.2 MB\u001b[0m \u001b[31m39.6 MB/s\u001b[0m eta \u001b[36m0:00:00\u001b[0m\n",
            "\u001b[?25hDownloading requests_toolbelt-1.0.0-py2.py3-none-any.whl (54 kB)\n",
            "Downloading h2-4.1.0-py3-none-any.whl (57 kB)\n",
            "Downloading markdown_it_py-2.2.0-py3-none-any.whl (84 kB)\n",
            "Downloading httpx-0.27.0-py3-none-any.whl (75 kB)\n",
            "Downloading h11-0.14.0-py3-none-any.whl (58 kB)\n",
            "Downloading hpack-4.0.0-py3-none-any.whl (32 kB)\n",
            "Downloading hyperframe-6.0.1-py3-none-any.whl (12 kB)\n",
            "Installing collected packages: quickjs, orjson, markdown-it-py, loguru, hyperframe, hpack, h11, aiofiles, rich, requests-toolbelt, httpcore, h2, httpx, poe-api-wrapper\n",
            "  Attempting uninstall: markdown-it-py\n",
            "    Found existing installation: markdown-it-py 3.0.0\n",
            "    Uninstalling markdown-it-py-3.0.0:\n",
            "      Successfully uninstalled markdown-it-py-3.0.0\n",
            "  Attempting uninstall: rich\n",
            "    Found existing installation: rich 13.7.1\n",
            "    Uninstalling rich-13.7.1:\n",
            "      Successfully uninstalled rich-13.7.1\n",
            "Successfully installed aiofiles-24.1.0 h11-0.14.0 h2-4.1.0 hpack-4.0.0 httpcore-1.0.5 httpx-0.27.0 hyperframe-6.0.1 loguru-0.7.2 markdown-it-py-2.2.0 orjson-3.10.7 poe-api-wrapper-1.6.3 quickjs-1.19.4 requests-toolbelt-1.0.0 rich-13.3.4\n"
          ]
        }
      ]
    },
    {
      "cell_type": "code",
      "source": [
        "from poe_api_wrapper import AsyncPoeApi\n",
        "import asyncio\n",
        "\n",
        "tokens = {\n",
        "    'p-b': 'fmU9cikJdfOeXdy8aT7YpQ%3D%3D',\n",
        "    'p-lat': 'nwDTrz49byQ0Bzn7B5C8me|2024-08-09T02:40:26.818Z',\n",
        "}\n",
        "\n",
        "async def main():\n",
        "    response = \"\"  # Initialize an empty string to store the response\n",
        "    client = await AsyncPoeApi(tokens=tokens).create()\n",
        "\n",
        "    message = \"Explain general relativity in simple terms\"  # Replace with your actual query\n",
        "\n",
        "\n",
        "    async for chunk in client.send_message(bot=\"gpt3_5\", message=message):\n",
        "        print(chunk[\"response\"], end='', flush=True)\n",
        "        response += chunk[\"response\"]\n",
        "\n",
        "    print(\"\\nFull response:\", response)\n",
        "\n",
        "    return response\n",
        "\n",
        "\n",
        "final_response = asyncio.run(main())\n",
        "\n",
        "# You can use final_response for further processing\n"
      ],
      "metadata": {
        "colab": {
          "base_uri": "https://localhost:8080/"
        },
        "id": "x3HAZZJxP7Bx",
        "outputId": "a6557947-e3cd-44cc-ddac-119599eeaeb7"
      },
      "execution_count": 20,
      "outputs": [
        {
          "output_type": "stream",
          "name": "stderr",
          "text": [
            "\u001b[32m2024-08-09 08:27:55.524\u001b[0m | \u001b[1mINFO    \u001b[0m | \u001b[36mpoe_api_wrapper.bundles\u001b[0m:\u001b[36minit_window\u001b[0m:\u001b[36m21\u001b[0m - \u001b[1mInitializing web data\u001b[0m\n",
            "\u001b[32m2024-08-09 08:27:55.998\u001b[0m | \u001b[1mINFO    \u001b[0m | \u001b[36mpoe_api_wrapper.bundles\u001b[0m:\u001b[36minit_window\u001b[0m:\u001b[36m41\u001b[0m - \u001b[1mWeb data initialized\u001b[0m\n",
            "\u001b[32m2024-08-09 08:27:56.004\u001b[0m | \u001b[1mINFO    \u001b[0m | \u001b[36mpoe_api_wrapper.bundles\u001b[0m:\u001b[36mget_form_key\u001b[0m:\u001b[36m82\u001b[0m - \u001b[1mRetrieved formkey successfully: 2f728e99fd4ce91de15981ec8c36a7b7\u001b[0m\n",
            "\u001b[32m2024-08-09 08:27:56.484\u001b[0m | \u001b[1mINFO    \u001b[0m | \u001b[36mpoe_api_wrapper.async_api\u001b[0m:\u001b[36mcreate\u001b[0m:\u001b[36m89\u001b[0m - \u001b[1mAsync instance created\u001b[0m\n",
            "\u001b[32m2024-08-09 08:27:57.223\u001b[0m | \u001b[1mINFO    \u001b[0m | \u001b[36mpoe_api_wrapper.async_api\u001b[0m:\u001b[36msend_message\u001b[0m:\u001b[36m782\u001b[0m - \u001b[1mNew Thread created | 3i74ymggba00ypao422\u001b[0m\n"
          ]
        },
        {
          "output_type": "stream",
          "name": "stdout",
          "text": [
            "General relativity is a theory proposed by Albert Einstein that describes how gravity works in the universe. In simple terms, it suggests that gravity is not just a force between objects, but rather a curvature in the fabric of space and time. \n",
            "\n",
            "According to general relativity, massive objects like planets and stars warp the space around them, causing other objects to move towards them. This is why objects fall towards the Earth, and why the Earth orbits around the Sun. \n",
            "\n",
            "General relativity also predicts that time can be affected by gravity, with time passing more slowly in stronger gravitational fields. This has been confirmed by experiments and observations, such as the famous example of clocks on GPS satellites running slightly faster than clocks on Earth due to the weaker gravitational pull in space. \n",
            "\n",
            "Overall, general relativity has been incredibly successful in explaining a wide range of phenomena in the universe, from the motion of planets to the bending of light around massive objects like black holes.\n",
            "Full response: General relativity is a theory proposed by Albert Einstein that describes how gravity works in the universe. In simple terms, it suggests that gravity is not just a force between objects, but rather a curvature in the fabric of space and time. \n",
            "\n",
            "According to general relativity, massive objects like planets and stars warp the space around them, causing other objects to move towards them. This is why objects fall towards the Earth, and why the Earth orbits around the Sun. \n",
            "\n",
            "General relativity also predicts that time can be affected by gravity, with time passing more slowly in stronger gravitational fields. This has been confirmed by experiments and observations, such as the famous example of clocks on GPS satellites running slightly faster than clocks on Earth due to the weaker gravitational pull in space. \n",
            "\n",
            "Overall, general relativity has been incredibly successful in explaining a wide range of phenomena in the universe, from the motion of planets to the bending of light around massive objects like black holes.\n"
          ]
        }
      ]
    }
  ]
}